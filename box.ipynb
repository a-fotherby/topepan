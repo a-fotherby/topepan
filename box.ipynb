{
 "cells": [
  {
   "cell_type": "code",
   "execution_count": null,
   "metadata": {
    "pycharm": {
     "name": "#%%\n"
    }
   },
   "outputs": [],
   "source": [
    "%matplotlib notebook\n",
    "\n",
    "from ipywidgets import widgets\n",
    "from ipywidgets.widgets import fixed\n",
    "import topepan as tp\n",
    "from topepan import plot as tpp"
   ]
  },
  {
   "cell_type": "code",
   "execution_count": null,
   "outputs": [],
   "source": [
    "cat_list, max_time = tpp.data_cats(tp.config.box_path.parents[0])"
   ],
   "metadata": {
    "collapsed": false,
    "pycharm": {
     "name": "#%%\n"
    }
   }
  },
  {
   "cell_type": "code",
   "execution_count": null,
   "outputs": [],
   "source": [
    "times = tpp.read_times(tp.config.box_path)\n",
    "\n",
    "file_cat = widgets.ToggleButtons(\n",
    "    options=cat_list,\n",
    "    description='',\n",
    "    disabled=False,\n",
    "    button_style='')\n",
    "\n",
    "plot_var = widgets.Select(\n",
    "    options=(tpp.read_tecplot(file_cat.value, 1)[1][3:]))\n",
    "\n",
    "def update_plot_vars(*args):\n",
    "    plot_var_list = tpp.read_tecplot(file_cat.value, 1)[1]\n",
    "    plot_var.options = plot_var_list[3:]\n",
    "\n",
    "def update_box(file_cat, plot_var, times):\n",
    "    import numpy as np\n",
    "\n",
    "    try:\n",
    "        series = tpp.box_plot(file_cat, plot_var, max_time).flatten()\n",
    "    except AttributeError:\n",
    "        return\n",
    "    ax.clear()\n",
    "    ax.plot(times, series)\n",
    "    ax.set_xlabel('Time')\n",
    "    ax.set_ylabel(plot_var)\n",
    "    fig.canvas.draw_idle() \n",
    "\n",
    "\n",
    "file_cat.observe(update_plot_vars)\n",
    "\n",
    "fig, ax = tpp.initialise_box('totcon')\n",
    "\n",
    "widgets.interact(update_box, file_cat=file_cat, plot_var=plot_var, times=fixed(times))"
   ],
   "metadata": {
    "collapsed": false,
    "pycharm": {
     "name": "#%%\n"
    }
   }
  },
  {
   "cell_type": "code",
   "execution_count": null,
   "metadata": {
    "pycharm": {
     "name": "#%%\n"
    }
   },
   "outputs": [],
   "source": []
  },
  {
   "cell_type": "code",
   "execution_count": null,
   "metadata": {
    "pycharm": {
     "name": "#%%\n"
    }
   },
   "outputs": [],
   "source": []
  }
 ],
 "metadata": {
  "kernelspec": {
   "name": "conda-env-topepan-py",
   "language": "python",
   "display_name": "Python [conda env:topepan] *"
  },
  "language_info": {
   "codemirror_mode": {
    "name": "ipython",
    "version": 3
   },
   "file_extension": ".py",
   "mimetype": "text/x-python",
   "name": "python",
   "nbconvert_exporter": "python",
   "pygments_lexer": "ipython3",
   "version": "3.8.12"
  }
 },
 "nbformat": 4,
 "nbformat_minor": 4
}