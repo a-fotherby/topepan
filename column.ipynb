{
 "cells": [
  {
   "cell_type": "code",
   "execution_count": null,
   "metadata": {
    "pycharm": {
     "name": "#%%\n"
    }
   },
   "outputs": [],
   "source": [
    "%matplotlib notebook\n",
    "\n",
    "from ipywidgets import widgets\n",
    "from ipywidgets.widgets import fixed\n",
    "import topepan as tp\n",
    "from topepan import plot as tpp"
   ]
  },
  {
   "cell_type": "code",
   "execution_count": null,
   "metadata": {
    "pycharm": {
     "name": "#%%\n"
    }
   },
   "outputs": [],
   "source": [
    "catList, max_time = tpp.data_cats(tp.config.column_path.parents[0])"
   ]
  },
  {
   "cell_type": "code",
   "execution_count": null,
   "metadata": {
    "pycharm": {
     "name": "#%%\n"
    }
   },
   "outputs": [],
   "source": [
    "file_cat = widgets.ToggleButtons(\n",
    "    options=catList,\n",
    "    description='',\n",
    "    disabled=False,\n",
    "    button_style='')\n",
    "\n",
    "time = widgets.IntSlider(value=1,\n",
    "    min=1,\n",
    "    max=max_time,\n",
    "    step=1)\n",
    "\n",
    "plot_var = widgets.Dropdown(options=(tpp.read_tecplot(file_cat.value, time.value)[1])[3:])\n",
    "\n",
    "def updateplot_vars(*args):\n",
    "    plot_varList = tpp.read_tecplot(file_cat.value, time.value)[1]\n",
    "    plot_var.options = plot_varList[3:]\n",
    "\n",
    "def update_plot(time, file_cat, plot_var):\n",
    "    df, column_headers = tpp.read_tecplot(file_cat, time)\n",
    "        \n",
    "    lower, upper =  tpp.plot_var_range(max_time, file_cat, plot_var)\n",
    "\n",
    "    if upper > 0:\n",
    "        upper = upper * 1.02\n",
    "    elif upper < 0: \n",
    "        upper = upper * 0.98\n",
    "    else:\n",
    "        upper = -lower\n",
    "    \n",
    "    if lower > 0:\n",
    "        lower = lower * 0.98\n",
    "    elif lower < 0:\n",
    "        lower = lower * 1.02\n",
    "    else:\n",
    "        lower = -upper\n",
    "        \n",
    "    ax.set_xlim(lower, upper)\n",
    "\n",
    "    \n",
    "    line.set_xdata(df[plot_var])\n",
    "    fig.canvas.draw_idle() \n",
    "\n",
    "file_cat.observe(updateplot_vars, 'value')\n",
    "\n",
    "fig, ax, line = tpp.initialise1D('totcon')\n",
    "ax.invert_yaxis()\n",
    "\n",
    "widgets.interact(update_plot, file_cat=file_cat, time=time, plot_var=plot_var, max_time=fixed(max_time))"
   ]
  },
  {
   "cell_type": "code",
   "execution_count": null,
   "metadata": {
    "pycharm": {
     "name": "#%%\n"
    }
   },
   "outputs": [],
   "source": []
  },
  {
   "cell_type": "code",
   "execution_count": null,
   "metadata": {
    "pycharm": {
     "name": "#%%\n"
    }
   },
   "outputs": [],
   "source": []
  },
  {
   "cell_type": "code",
   "execution_count": null,
   "metadata": {
    "collapsed": false,
    "jupyter": {
     "outputs_hidden": false
    },
    "pycharm": {
     "name": "#%%\n"
    }
   },
   "outputs": [],
   "source": []
  }
 ],
 "metadata": {
  "kernelspec": {
   "name": "conda-env-topepan-py",
   "language": "python",
   "display_name": "Python [conda env:topepan] *"
  },
  "language_info": {
   "codemirror_mode": {
    "name": "ipython",
    "version": 3
   },
   "file_extension": ".py",
   "mimetype": "text/x-python",
   "name": "python",
   "nbconvert_exporter": "python",
   "pygments_lexer": "ipython3",
   "version": "3.9.5"
  }
 },
 "nbformat": 4,
 "nbformat_minor": 4
}