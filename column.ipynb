{
 "cells": [
  {
   "cell_type": "code",
   "execution_count": 22,
   "metadata": {
    "pycharm": {
     "name": "#%%\n"
    }
   },
   "outputs": [],
   "source": [
    "%matplotlib ipympl\n",
    "\n",
    "import pandas as pd\n",
    "import numpy as np\n",
    "import matplotlib.pyplot as plt\n",
    "import os\n",
    "from glob import glob\n",
    "from ipywidgets import widgets\n",
    "from ipywidgets.widgets import fixed\n",
    "from topepan import read_tecplot, tecplot_2d, data_cats, plot_var_range, initialise1D, time_nav_1d"
   ]
  },
  {
   "cell_type": "code",
   "execution_count": 23,
   "metadata": {
    "pycharm": {
     "name": "#%%\n"
    }
   },
   "outputs": [],
   "source": [
    "catList, max_time = data_cats(\"/Users/hjb62/Python/Omphalos/fitting/ThomasModel/Model2022_restarts/\")"
   ]
  },
  {
   "cell_type": "code",
   "execution_count": 30,
   "metadata": {
    "pycharm": {
     "name": "#%%\n"
    }
   },
   "outputs": [
    {
     "data": {
      "application/vnd.jupyter.widget-view+json": {
       "model_id": "65fa78cc6fad4ea084ebfa16a890a6b2",
       "version_major": 2,
       "version_minor": 0
      },
      "text/plain": [
       "Canvas(toolbar=Toolbar(toolitems=[('Home', 'Reset original view', 'home', 'home'), ('Back', 'Back to previous …"
      ]
     },
     "metadata": {},
     "output_type": "display_data"
    },
    {
     "data": {
      "application/vnd.jupyter.widget-view+json": {
       "model_id": "4963364c3ee5492dbd45fb58a5983172",
       "version_major": 2,
       "version_minor": 0
      },
      "text/plain": [
       "interactive(children=(IntSlider(value=1, description='time', max=23, min=1), ToggleButtons(description='file_c…"
      ]
     },
     "metadata": {},
     "output_type": "display_data"
    },
    {
     "data": {
      "text/plain": [
       "<function __main__.update_plot(time, file_cat, plot_var)>"
      ]
     },
     "execution_count": 30,
     "metadata": {},
     "output_type": "execute_result"
    }
   ],
   "source": [
    "file_cat = widgets.ToggleButtons(\n",
    "    options=catList,\n",
    "    description='',\n",
    "    disabled=False,\n",
    "    button_style='')\n",
    "\n",
    "time = widgets.IntSlider(value=1,\n",
    "    min=1,\n",
    "    max=max_time,\n",
    "    step=1)\n",
    "\n",
    "plot_var = widgets.Dropdown(options=(read_tecplot(file_cat.value, time.value)[1])[3:])\n",
    "\n",
    "def updateplot_vars(*args):\n",
    "    plot_varList = read_tecplot(file_cat.value, time.value)[1]\n",
    "    plot_var.options = plot_varList[3:]\n",
    "\n",
    "def update_plot(time, file_cat, plot_var):\n",
    "    df, column_headers = read_tecplot(file_cat, time)\n",
    "        \n",
    "    lower, upper =  plot_var_range(max_time, file_cat, plot_var)\n",
    "\n",
    "    if upper > 0:\n",
    "        upper = upper * 1.02\n",
    "    elif upper < 0: \n",
    "        upper = upper * 0.98\n",
    "    else:\n",
    "        upper = -lower\n",
    "    \n",
    "    if lower > 0:\n",
    "        lower = lower * 0.98\n",
    "    elif lower < 0:\n",
    "        lower = lower * 1.02\n",
    "    else:\n",
    "        lower = -upper\n",
    "        \n",
    "    ax.set_xlim(lower, upper)\n",
    "\n",
    "    \n",
    "    line.set_xdata(df[plot_var])\n",
    "    fig.canvas.draw_idle() \n",
    "\n",
    "file_cat.observe(updateplot_vars, 'value')\n",
    "\n",
    "fig, ax, line = initialise1D('totcon')\n",
    "ax.invert_yaxis()\n",
    "\n",
    "widgets.interact(update_plot, file_cat=file_cat, time=time, plot_var=plot_var, max_time=fixed(max_time))"
   ]
  },
  {
   "cell_type": "code",
   "execution_count": null,
   "metadata": {
    "pycharm": {
     "name": "#%%\n"
    }
   },
   "outputs": [],
   "source": []
  },
  {
   "cell_type": "code",
   "execution_count": null,
   "metadata": {
    "pycharm": {
     "name": "#%%\n"
    }
   },
   "outputs": [],
   "source": []
  },
  {
   "cell_type": "code",
   "execution_count": null,
   "metadata": {
    "collapsed": false,
    "jupyter": {
     "outputs_hidden": false
    },
    "pycharm": {
     "name": "#%%\n"
    }
   },
   "outputs": [],
   "source": []
  }
 ],
 "metadata": {
  "kernelspec": {
   "display_name": "Python 3",
   "language": "python",
   "name": "python3"
  },
  "language_info": {
   "codemirror_mode": {
    "name": "ipython",
    "version": 3
   },
   "file_extension": ".py",
   "mimetype": "text/x-python",
   "name": "python",
   "nbconvert_exporter": "python",
   "pygments_lexer": "ipython3",
   "version": "3.9.5"
  }
 },
 "nbformat": 4,
 "nbformat_minor": 4
}